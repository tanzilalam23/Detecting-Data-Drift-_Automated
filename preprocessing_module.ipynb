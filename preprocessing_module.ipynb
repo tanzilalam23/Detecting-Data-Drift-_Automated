{
 "cells": [
  {
   "cell_type": "code",
   "execution_count": 1,
   "id": "5341f389",
   "metadata": {},
   "outputs": [],
   "source": [
    "import re\n",
    "import string\n",
    "import nltk\n",
    "from nltk.corpus import stopwords\n",
    "from nltk.stem import WordNetLemmatizer"
   ]
  },
  {
   "cell_type": "code",
   "execution_count": 2,
   "id": "4f5e52ba",
   "metadata": {},
   "outputs": [],
   "source": [
    "def preprocess_text(df, column):\n",
    "    \n",
    "\n",
    "\n",
    "    # Remove special characters and numbers\n",
    "    df[column] = df[column].apply(lambda text: re.sub(r'[^a-zA-Z\\s]', '', str(text)))\n",
    "    \n",
    "    # Convert to lowercase\n",
    "    df[column] = df[column].str.lower()\n",
    "    \n",
    "    # Remove multiple occurrences of 'i' characters\n",
    "    df[column] = df[column].apply(lambda text: re.sub(r'(i{2,})', 'i', str(text)))\n",
    "    \n",
    "    # Remove single alphabets\n",
    "    df[column] = df[column].apply(lambda text: re.sub(r'\\b[a-zA-Z]\\b', '', str(text)))\n",
    "    \n",
    "    # Tokenize the text\n",
    "    df[column] = df[column].apply(lambda text: nltk.word_tokenize(text))\n",
    "    \n",
    "    # Remove stopwords\n",
    "    stop_words = set(stopwords.words('english'))\n",
    "    df[column] = df[column].apply(lambda tokens: [token for token in tokens if token not in stop_words])\n",
    "    \n",
    "    # Lemmatize the tokens\n",
    "    lemmatizer = WordNetLemmatizer()\n",
    "    df[column] = df[column].apply(lambda tokens: [lemmatizer.lemmatize(token) for token in tokens])\n",
    "    \n",
    "    # Remove 'mmddyyy'\n",
    "    df[column] = df[column].apply(lambda text: re.sub(r'(\\b[mmddyyy]+\\b)', '', str(text)))\n",
    "    \n",
    "    # Remove extra whitespace\n",
    "    df[column] = df[column].apply(lambda text: re.sub(r'\\s+', '', str(text)))\n",
    "    \n",
    "    # Join the tokens back into a string\n",
    "    df[column] = df[column].apply(lambda tokens: ''.join(tokens))\n",
    "    \n",
    "    return df"
   ]
  }
 ],
 "metadata": {
  "kernelspec": {
   "display_name": "Python 3 (ipykernel)",
   "language": "python",
   "name": "python3"
  },
  "language_info": {
   "codemirror_mode": {
    "name": "ipython",
    "version": 3
   },
   "file_extension": ".py",
   "mimetype": "text/x-python",
   "name": "python",
   "nbconvert_exporter": "python",
   "pygments_lexer": "ipython3",
   "version": "3.9.10"
  }
 },
 "nbformat": 4,
 "nbformat_minor": 5
}
