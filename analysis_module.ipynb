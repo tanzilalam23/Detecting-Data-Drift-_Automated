{
 "cells": [
  {
   "cell_type": "code",
   "execution_count": 1,
   "id": "986ddf17",
   "metadata": {},
   "outputs": [],
   "source": [
    "import datadrift_module"
   ]
  },
  {
   "cell_type": "code",
   "execution_count": 2,
   "id": "59005861",
   "metadata": {
    "scrolled": false
   },
   "outputs": [
    {
     "name": "stdout",
     "output_type": "stream",
     "text": [
      "This is Word2Vec Calculation\n"
     ]
    },
    {
     "data": {
      "text/plain": [
       "['Document 1   : Mean Similarity = 0.9942694306373596   No Data Drift',\n",
       " 'Document 2   : Mean Similarity = 0.9905433058738708   No Data Drift',\n",
       " 'Document 3   : Mean Similarity = 0.9930766224861145   No Data Drift',\n",
       " 'Document 4   : Mean Similarity = 0.9934917092323303   No Data Drift',\n",
       " 'Document 5   : Mean Similarity = 0.9924513697624207   No Data Drift',\n",
       " 'Document 6   : Mean Similarity = 0.9933215975761414   No Data Drift',\n",
       " 'Document 7   : Mean Similarity = 0.9933568239212036   No Data Drift',\n",
       " 'Document 8   : Mean Similarity = 0.9943103194236755   No Data Drift',\n",
       " 'Document 9   : Mean Similarity = 0.9947823286056519   No Data Drift',\n",
       " 'Document 10  : Mean Similarity = 0.9942372441291809   No Data Drift',\n",
       " 'Document 11  : Mean Similarity = 0.9955115914344788   No Data Drift',\n",
       " 'Document 12  : Mean Similarity = 0.9931865334510803   No Data Drift',\n",
       " 'Document 13  : Mean Similarity = 0.9909940958023071   No Data Drift',\n",
       " 'Document 14  : Mean Similarity = 0.9911516904830933   No Data Drift',\n",
       " 'Document 15  : Mean Similarity = 0.9905253648757935   No Data Drift',\n",
       " 'Document 16  : Mean Similarity = 0.9919903874397278   No Data Drift',\n",
       " 'Document 17  : Mean Similarity = 0.9921577572822571   No Data Drift',\n",
       " 'Document 18  : Mean Similarity = 0.992391049861908    No Data Drift',\n",
       " 'Document 19  : Mean Similarity = 0.9944497346878052   No Data Drift',\n",
       " 'Document 20  : Mean Similarity = 0.9931758046150208   No Data Drift',\n",
       " 'Document 21  : Mean Similarity = 0.9932342767715454   No Data Drift',\n",
       " 'Document 22  : Mean Similarity = 0.993153989315033    No Data Drift',\n",
       " 'Document 23  : Mean Similarity = 0.9941793084144592   No Data Drift',\n",
       " 'Document 24  : Mean Similarity = 0.9945560693740845   No Data Drift',\n",
       " 'Document 25  : Mean Similarity = 0.9934390187263489   No Data Drift',\n",
       " 'Document 26  : Mean Similarity = 0.9936497211456299   No Data Drift',\n",
       " 'Document 27  : Mean Similarity = 0.9925448894500732   No Data Drift',\n",
       " 'Document 28  : Mean Similarity = 0.9948937892913818   No Data Drift',\n",
       " 'Document 29  : Mean Similarity = 0.9933582544326782   No Data Drift',\n",
       " 'Document 30  : Mean Similarity = 0.9922816157341003   No Data Drift',\n",
       " 'Document 31  : Mean Similarity = 0.9941724538803101   No Data Drift',\n",
       " 'Document 32  : Mean Similarity = 0.9922696352005005   No Data Drift',\n",
       " 'Document 33  : Mean Similarity = 0.9945964217185974   No Data Drift',\n",
       " 'Document 34  : Mean Similarity = 0.9949063658714294   No Data Drift',\n",
       " 'Document 35  : Mean Similarity = 0.9926573634147644   No Data Drift',\n",
       " 'Document 36  : Mean Similarity = 0.9943594336509705   No Data Drift',\n",
       " 'Document 37  : Mean Similarity = 0.9930568337440491   No Data Drift',\n",
       " 'Document 38  : Mean Similarity = 0.9945881366729736   No Data Drift',\n",
       " 'Document 39  : Mean Similarity = 0.994758129119873    No Data Drift',\n",
       " 'Document 40  : Mean Similarity = 0.9935777187347412   No Data Drift',\n",
       " 'Document 41  : Mean Similarity = 0.993763267993927    No Data Drift']"
      ]
     },
     "execution_count": 2,
     "metadata": {},
     "output_type": "execute_result"
    }
   ],
   "source": [
    "datadrift_module.predict_data_drift(\"/mnt/c/Users/alamm9/Desktop/text_file_train_test/Out_of_sample_test\")"
   ]
  },
  {
   "cell_type": "code",
   "execution_count": 3,
   "id": "9f216c01",
   "metadata": {
    "scrolled": false
   },
   "outputs": [
    {
     "name": "stdout",
     "output_type": "stream",
     "text": [
      "This is TF-IDF Calculation\n"
     ]
    },
    {
     "data": {
      "text/plain": [
       "['Document 1   : Mean Similarity = 0.028388448193452345 𝗗𝗮𝘁𝗮 𝗗𝗿𝗶𝗳𝘁',\n",
       " 'Document 2   : Mean Similarity = 0.0457470913671029   𝗗𝗮𝘁𝗮 𝗗𝗿𝗶𝗳𝘁',\n",
       " 'Document 3   : Mean Similarity = 0.04929111067541344  𝗗𝗮𝘁𝗮 𝗗𝗿𝗶𝗳𝘁',\n",
       " 'Document 4   : Mean Similarity = 0.049938147991671684 𝗗𝗮𝘁𝗮 𝗗𝗿𝗶𝗳𝘁',\n",
       " 'Document 5   : Mean Similarity = 0.04274132409867674  𝗗𝗮𝘁𝗮 𝗗𝗿𝗶𝗳𝘁',\n",
       " 'Document 6   : Mean Similarity = 0.06847616317771978  No Data Drift',\n",
       " 'Document 7   : Mean Similarity = 0.05407776075181865  No Data Drift',\n",
       " 'Document 8   : Mean Similarity = 0.05632929040166195  No Data Drift',\n",
       " 'Document 9   : Mean Similarity = 0.0970594189966155   No Data Drift',\n",
       " 'Document 10  : Mean Similarity = 0.1181439040431252   No Data Drift',\n",
       " 'Document 11  : Mean Similarity = 0.09213965190968144  No Data Drift',\n",
       " 'Document 12  : Mean Similarity = 0.052840051790428014 No Data Drift',\n",
       " 'Document 13  : Mean Similarity = 0.08266360958204012  No Data Drift',\n",
       " 'Document 14  : Mean Similarity = 0.08315926360163413  No Data Drift',\n",
       " 'Document 15  : Mean Similarity = 0.07834037401148952  No Data Drift',\n",
       " 'Document 16  : Mean Similarity = 0.02175049933457424  𝗗𝗮𝘁𝗮 𝗗𝗿𝗶𝗳𝘁',\n",
       " 'Document 17  : Mean Similarity = 0.020498146057890836 𝗗𝗮𝘁𝗮 𝗗𝗿𝗶𝗳𝘁',\n",
       " 'Document 18  : Mean Similarity = 0.021002484903123852 𝗗𝗮𝘁𝗮 𝗗𝗿𝗶𝗳𝘁',\n",
       " 'Document 19  : Mean Similarity = 0.025016151290058564 𝗗𝗮𝘁𝗮 𝗗𝗿𝗶𝗳𝘁',\n",
       " 'Document 20  : Mean Similarity = 0.02779311441833324  𝗗𝗮𝘁𝗮 𝗗𝗿𝗶𝗳𝘁',\n",
       " 'Document 21  : Mean Similarity = 0.028155724914448187 𝗗𝗮𝘁𝗮 𝗗𝗿𝗶𝗳𝘁',\n",
       " 'Document 22  : Mean Similarity = 0.06439934505697562  No Data Drift',\n",
       " 'Document 23  : Mean Similarity = 0.07115916446282199  No Data Drift',\n",
       " 'Document 24  : Mean Similarity = 0.07167683447519106  No Data Drift',\n",
       " 'Document 25  : Mean Similarity = 0.05494113772015931  No Data Drift',\n",
       " 'Document 26  : Mean Similarity = 0.06774983982010452  No Data Drift',\n",
       " 'Document 27  : Mean Similarity = 0.05263432729864157  No Data Drift',\n",
       " 'Document 28  : Mean Similarity = 0.060449983026904436 No Data Drift',\n",
       " 'Document 29  : Mean Similarity = 0.07902886280514945  No Data Drift',\n",
       " 'Document 30  : Mean Similarity = 0.0637477686280894   No Data Drift',\n",
       " 'Document 31  : Mean Similarity = 0.051922914811965266 No Data Drift',\n",
       " 'Document 32  : Mean Similarity = 0.08529986196685746  No Data Drift',\n",
       " 'Document 33  : Mean Similarity = 0.051338313220244944 𝗗𝗮𝘁𝗮 𝗗𝗿𝗶𝗳𝘁',\n",
       " 'Document 34  : Mean Similarity = 0.09356275121274327  No Data Drift',\n",
       " 'Document 35  : Mean Similarity = 0.08073083349718155  No Data Drift',\n",
       " 'Document 36  : Mean Similarity = 0.053265959538327703 No Data Drift',\n",
       " 'Document 37  : Mean Similarity = 0.05234763750547542  No Data Drift',\n",
       " 'Document 38  : Mean Similarity = 0.08739602456967324  No Data Drift',\n",
       " 'Document 39  : Mean Similarity = 0.1330572351027357   No Data Drift',\n",
       " 'Document 40  : Mean Similarity = 0.08506487024357255  No Data Drift',\n",
       " 'Document 41  : Mean Similarity = 0.06411242918893179  No Data Drift']"
      ]
     },
     "execution_count": 3,
     "metadata": {},
     "output_type": "execute_result"
    }
   ],
   "source": [
    "datadrift_module.predict_data_drift(\"/mnt/c/Users/alamm9/Desktop/text_file_train_test/Out_of_sample_test\",tfidf=1)"
   ]
  }
 ],
 "metadata": {
  "kernelspec": {
   "display_name": "Python 3 (ipykernel)",
   "language": "python",
   "name": "python3"
  },
  "language_info": {
   "codemirror_mode": {
    "name": "ipython",
    "version": 3
   },
   "file_extension": ".py",
   "mimetype": "text/x-python",
   "name": "python",
   "nbconvert_exporter": "python",
   "pygments_lexer": "ipython3",
   "version": "3.9.10"
  }
 },
 "nbformat": 4,
 "nbformat_minor": 5
}
