{
 "cells": [
  {
   "cell_type": "code",
   "execution_count": 1,
   "id": "1bd69dbb",
   "metadata": {
    "scrolled": true
   },
   "outputs": [],
   "source": [
    "import os\n",
    "import shutil\n",
    "\n",
    "# Set the path to the directory containing the pdf and text sub-folders\n",
    "pdf_data_dir = \"/mnt/c/Users/alamm9/Desktop/pdf_file/\"\n",
    "text_data_dir = \"/mnt/c/Users/alamm9/Desktop/text_file/\"\n",
    "\n",
    "# Get a list of all the files in the train and test sub-folders\n",
    "train_set_pdf_files = os.listdir(os.path.join(pdf_data_dir, \"train_set_pdf_files\"))\n",
    "In_sample_test = os.listdir(os.path.join(pdf_data_dir, \"In_sample_test\"))\n",
    "Out_of_sample_test = os.listdir(os.path.join(pdf_data_dir, \"Out_of_sample_test\"))\n",
    "\n",
    "text_files = os.listdir(os.path.join(text_data_dir))\n",
    "\n",
    "# Path to directory for train and test text files\n",
    "trainSet = \"/mnt/c/Users/alamm9/Desktop/text_file_train_test/train_set\"\n",
    "InSample_test = \"/mnt/c/Users/alamm9/Desktop/text_file_train_test/In_sample_test\"\n",
    "OutSample_test = \"/mnt/c/Users/alamm9/Desktop/text_file_train_test/Out_of_sample_test\"\n",
    "\n",
    "for filename in text_files:\n",
    "    if filename.endswith(\"_ocrtext.txt\"):\n",
    "        file_key = filename.split('_ocrtext.txt')[0]\n",
    "        pdf_filename =file_key +'.pdf'\n",
    "        txt_filename = filename\n",
    "        if  pdf_filename  in train_set_pdf_files:\n",
    "            shutil.copy(text_data_dir+'/'+txt_filename , trainSet + '/'+ txt_filename )\n",
    "\n",
    "        elif pdf_filename  in In_sample_test:\n",
    "            shutil.copy(text_data_dir+'/'+txt_filename , InSample_test + '/'+ txt_filename )\n",
    "        \n",
    "        elif pdf_filename  in Out_of_sample_test:\n",
    "            shutil.copy(text_data_dir+'/'+txt_filename , OutSample_test + '/'+ txt_filename )"
   ]
  }
 ],
 "metadata": {
  "kernelspec": {
   "display_name": "Python 3 (ipykernel)",
   "language": "python",
   "name": "python3"
  },
  "language_info": {
   "codemirror_mode": {
    "name": "ipython",
    "version": 3
   },
   "file_extension": ".py",
   "mimetype": "text/x-python",
   "name": "python",
   "nbconvert_exporter": "python",
   "pygments_lexer": "ipython3",
   "version": "3.9.13"
  }
 },
 "nbformat": 4,
 "nbformat_minor": 5
}
